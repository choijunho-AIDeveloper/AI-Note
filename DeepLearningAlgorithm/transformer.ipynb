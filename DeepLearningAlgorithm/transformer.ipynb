{
 "cells": [
  {
   "cell_type": "markdown",
   "id": "367175b5",
   "metadata": {},
   "source": []
  },
  {
   "cell_type": "code",
   "execution_count": 9,
   "id": "3ffbe1f8",
   "metadata": {},
   "outputs": [],
   "source": [
    "import torch\n",
    "import torch.nn as nn"
   ]
  },
  {
   "cell_type": "code",
   "execution_count": null,
   "id": "799b2d02",
   "metadata": {},
   "outputs": [],
   "source": [
    "device = torch.device(\"cuda\" if torch.cuda.is_available() else \"cpu\")"
   ]
  },
  {
   "cell_type": "code",
   "execution_count": 10,
   "id": "9d783c3f",
   "metadata": {},
   "outputs": [],
   "source": [
    "class MultiHeadAttention():\n",
    "    pass"
   ]
  },
  {
   "cell_type": "code",
   "execution_count": 11,
   "id": "d7a7db5d",
   "metadata": {},
   "outputs": [],
   "source": [
    "class Transformer():\n",
    "    pass"
   ]
  },
  {
   "cell_type": "code",
   "execution_count": 12,
   "id": "536f35a1",
   "metadata": {},
   "outputs": [
    {
     "data": {
      "text/plain": [
       "{'i': 0, 'dinner': 1, 'ate': 2}"
      ]
     },
     "execution_count": 12,
     "metadata": {},
     "output_type": "execute_result"
    }
   ],
   "source": [
    "data = \"i ate dinner\"\n",
    "\n",
    "words = data.split()\n",
    "words = set(words)\n",
    "\n",
    "vocab = {word: idx for idx, word in enumerate(words)}\n",
    "vocab"
   ]
  },
  {
   "cell_type": "markdown",
   "id": "dd775a57",
   "metadata": {},
   "source": [
    "#### Text Embedding\n",
    "nn.Embedding(임베딩할 단어 갯수, 임베딩할 벡터 차원, 패딩할 토큰 인덱스)"
   ]
  },
  {
   "cell_type": "code",
   "execution_count": null,
   "id": "39f5848b",
   "metadata": {},
   "outputs": [
    {
     "data": {
      "text/plain": [
       "Parameter containing:\n",
       "tensor([[-0.4039,  0.0090, -0.7603,  1.0129, -1.2761,  0.4183,  1.7342,  1.0212,\n",
       "         -0.1484,  0.7234],\n",
       "        [-1.1310, -0.5703,  0.4381,  0.0224, -0.3254,  0.1977,  2.6698,  0.6018,\n",
       "         -0.6700,  2.0775],\n",
       "        [-1.0761,  0.2572, -0.0259, -0.0120,  1.0479,  0.6209, -2.1577,  1.1249,\n",
       "          0.3120,  0.8104]], requires_grad=True)"
      ]
     },
     "execution_count": 17,
     "metadata": {},
     "output_type": "execute_result"
    }
   ],
   "source": [
    "embedding_layer = nn.Embedding(len(vocab), 10)\n",
    "embedding_layer.weight"
   ]
  },
  {
   "cell_type": "markdown",
   "id": "8bcb17de",
   "metadata": {},
   "source": [
    "#### Position Embedding"
   ]
  },
  {
   "cell_type": "code",
   "execution_count": null,
   "id": "cff482ec",
   "metadata": {},
   "outputs": [],
   "source": [
    "class PositionalEncoding(nn.Module):\n",
    "    def __init__(self):\n",
    "        super().__init__()\n",
    "        self.position = torch.zeros()\n",
    "\n"
   ]
  }
 ],
 "metadata": {
  "kernelspec": {
   "display_name": "ai",
   "language": "python",
   "name": "python3"
  },
  "language_info": {
   "codemirror_mode": {
    "name": "ipython",
    "version": 3
   },
   "file_extension": ".py",
   "mimetype": "text/x-python",
   "name": "python",
   "nbconvert_exporter": "python",
   "pygments_lexer": "ipython3",
   "version": "3.12.9"
  }
 },
 "nbformat": 4,
 "nbformat_minor": 5
}
