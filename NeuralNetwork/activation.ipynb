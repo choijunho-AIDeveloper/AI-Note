{
 "cells": [
  {
   "cell_type": "code",
   "execution_count": null,
   "metadata": {},
   "outputs": [],
   "source": [
    "# 이진 분류 마지막 단에서 사용\n",
    "def sigmoid(x):\n",
    "    import numpy as np\n",
    "    return 1/(1 + np.exp(-x))"
   ]
  },
  {
   "cell_type": "code",
   "execution_count": null,
   "metadata": {},
   "outputs": [],
   "source": [
    "# 다중 분류 마지막 단에서 사용\n",
    "def softmax(arr):\n",
    "    import numpy as np\n",
    "    softmax_arr = []\n",
    "    all_ele = sum([np.exp(ele) for ele in arr])\n",
    "    for ele in arr:\n",
    "        softmax_arr.append(np.exp(ele)/all_ele)\n",
    "    return softmax_arr"
   ]
  },
  {
   "cell_type": "code",
   "execution_count": null,
   "metadata": {},
   "outputs": [],
   "source": [
    "# 은닉층에서 사용\n",
    "def ReLU(x):\n",
    "    return x if x > 0 else 0"
   ]
  }
 ],
 "metadata": {
  "kernelspec": {
   "display_name": "ai",
   "language": "python",
   "name": "python3"
  },
  "language_info": {
   "name": "python",
   "version": "3.11.11"
  }
 },
 "nbformat": 4,
 "nbformat_minor": 2
}
