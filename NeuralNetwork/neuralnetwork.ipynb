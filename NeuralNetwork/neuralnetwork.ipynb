{
 "cells": [
  {
   "cell_type": "code",
   "execution_count": null,
   "metadata": {},
   "outputs": [],
   "source": [
    "import numpy as np\n",
    "\n",
    "class NN():\n",
    "    def __init__(self):\n",
    "        self.weight2 = np.random.randn(4, 2)\n",
    "        self.bias2 = np.random.rand(4)\n",
    "        self.weight3 = np.random.randn(1, 4)\n",
    "        self.bias3 = np.random.rand(1)\n",
    "    def forward(self, data):\n",
    "        self.hidden = np.dot(data, self.weight2.T) + self.bias2\n",
    "        self.output = np.dot(self.hidden, self.weight3.T) + self.bias3\n",
    "        return self.output"
   ]
  }
 ],
 "metadata": {
  "kernelspec": {
   "display_name": "ai",
   "language": "python",
   "name": "python3"
  },
  "language_info": {
   "name": "python",
   "version": "3.11.11"
  }
 },
 "nbformat": 4,
 "nbformat_minor": 2
}
