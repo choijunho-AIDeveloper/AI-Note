{
 "cells": [
  {
   "cell_type": "code",
   "execution_count": null,
   "metadata": {},
   "outputs": [],
   "source": [
    "def mae(output, label):\n",
    "    import numpy as np\n",
    "    return sum(np.abs(output[i] - label[i]) for i in range(len(output))) / len(output)"
   ]
  },
  {
   "cell_type": "code",
   "execution_count": null,
   "metadata": {},
   "outputs": [],
   "source": [
    "def mse(output, label):\n",
    "    return (sum([(output[i] - label[i]) ** 2 for i in range(len(output))])) / len(output)"
   ]
  },
  {
   "cell_type": "code",
   "execution_count": null,
   "metadata": {},
   "outputs": [],
   "source": [
    "def rmse(output, label):\n",
    "    import numpy as np\n",
    "    return np.sqrt((sum([(output[i] - label[i]) ** 2 for i in range(len(output))])) / len(output))"
   ]
  },
  {
   "cell_type": "code",
   "execution_count": null,
   "metadata": {},
   "outputs": [],
   "source": [
    "def bce(output, label):\n",
    "    import numpy as np\n",
    "    return - sum([label[i] * np.log(output[i]) + (1 - label[i]) * np.log(1 - output[i]) for i in range(len(output))]) / len(output)"
   ]
  },
  {
   "cell_type": "code",
   "execution_count": null,
   "metadata": {},
   "outputs": [],
   "source": [
    "# [1 0 0]같은 One-Hot 인코딩으로 나와야 함\n",
    "def cce(output, label):\n",
    "    import numpy as np\n",
    "    return - sum([label[i][j] * np.log(output[i][j]) for i in range(len(output)) for j in range(len(output[0]))]) / len(output)"
   ]
  }
 ],
 "metadata": {
  "kernelspec": {
   "display_name": "ai",
   "language": "python",
   "name": "python3"
  },
  "language_info": {
   "name": "python",
   "version": "3.11.11"
  }
 },
 "nbformat": 4,
 "nbformat_minor": 2
}
