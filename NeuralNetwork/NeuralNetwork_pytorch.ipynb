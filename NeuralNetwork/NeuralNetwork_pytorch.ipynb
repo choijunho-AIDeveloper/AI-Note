{
 "cells": [
  {
   "cell_type": "code",
   "execution_count": 35,
   "metadata": {},
   "outputs": [],
   "source": [
    "import numpy as np\n",
    "import matplotlib.pyplot as plt\n",
    "import torch\n",
    "from torch import nn\n",
    "from torchvision import datasets, transforms\n",
    "from torch.utils.data import DataLoader, random_split"
   ]
  },
  {
   "cell_type": "code",
   "execution_count": 36,
   "metadata": {},
   "outputs": [],
   "source": [
    "device = \"cuda\" if torch.cuda.is_available() else \"cpu\""
   ]
  },
  {
   "cell_type": "code",
   "execution_count": 37,
   "metadata": {},
   "outputs": [],
   "source": [
    "train_size = 0.7\n",
    "valid_size = 0.1\n",
    "test_size = 0.2\n",
    "batch = 16\n",
    "\n",
    "data = datasets.MNIST(root = \"../data/MNIST\", download = True, transform = transforms.ToTensor())\n",
    "\n",
    "train, valid, test = random_split(data, [train_size, valid_size, test_size])\n",
    "\n",
    "train_loader = DataLoader(train, batch_size = batch, shuffle = True)\n",
    "valid_loader = DataLoader(valid, batch_size = batch, shuffle = False)\n",
    "test_loader = DataLoader(test, batch_size = batch, shuffle = False)"
   ]
  },
  {
   "cell_type": "code",
   "execution_count": 38,
   "metadata": {},
   "outputs": [
    {
     "data": {
      "image/png": "[encoded data removed]",
      "text/plain": [
       "<Figure size 640x480 with 1 Axes>"
      ]
     },
     "metadata": {},
     "output_type": "display_data"
    }
   ],
   "source": [
    "image, label = next(iter(train_loader))\n",
    "\n",
    "image = torch.squeeze(image[0])\n",
    "\n",
    "plt.imshow(image)\n",
    "\n",
    "plt.title(label[0].item())\n",
    "plt.axis('off')\n",
    "\n",
    "plt.show()\n"
   ]
  },
  {
   "cell_type": "code",
   "execution_count": 39,
   "metadata": {},
   "outputs": [],
   "source": [
    "class NN(nn.Module):\n",
    "    def __init__(self):\n",
    "        super(NN, self).__init__()\n",
    "        self.flatten = nn.Flatten()\n",
    "        self.fc1 = nn.Linear(784, 128)\n",
    "        self.fc2 = nn.Linear(128, 10)\n",
    "        self.activation = nn.ReLU()\n",
    "    def forward(self, x):\n",
    "        x = self.flatten(x)\n",
    "        x = self.activation(self.fc1(x))\n",
    "        x = self.fc2(x)\n",
    "        return x"
   ]
  },
  {
   "cell_type": "code",
   "execution_count": 40,
   "metadata": {},
   "outputs": [],
   "source": [
    "model = NN().to(device)\n",
    "loss = nn.CrossEntropyLoss()\n",
    "optim = torch.optim.SGD(model.parameters(), lr = 1e-3, momentum = 0.5)\n",
    "\n",
    "epochs = 10"
   ]
  },
  {
   "cell_type": "code",
   "execution_count": 41,
   "metadata": {},
   "outputs": [],
   "source": [
    "def train(epochs, train_loader, valid_loader):\n",
    "    train_loss = []\n",
    "    valid_loss = []\n",
    "    for _ in range(epochs):\n",
    "        total_train_loss = 0\n",
    "        total_valid_loss = 0\n",
    "\n",
    "        model.train()\n",
    "        for data, label in train_loader:\n",
    "            data = data.to(device)\n",
    "            label = label.to(device)\n",
    "            optim.zero_grad()\n",
    "            output = model(data)\n",
    "            losses = loss(output, label)\n",
    "            losses.backward()\n",
    "            optim.step()\n",
    "            total_train_loss += losses.item()\n",
    "        train_loss.append(total_train_loss/len(train_loader))\n",
    "        \n",
    "        model.eval()\n",
    "        with torch.no_grad():\n",
    "            for data, label in valid_loader:\n",
    "                data = data.to(device)\n",
    "                label = label.to(device)\n",
    "                output = model(data)\n",
    "                losses = loss(output, label)\n",
    "                total_valid_loss += losses.item()\n",
    "        valid_loss.append(total_valid_loss/(len(valid_loader)))\n",
    "    return train_loss, valid_loss\n"
   ]
  },
  {
   "cell_type": "code",
   "execution_count": 42,
   "metadata": {},
   "outputs": [],
   "source": [
    "def test(test_loader):\n",
    "    total_test_loss = 0\n",
    "    model.eval()\n",
    "    with torch.no_grad():\n",
    "        for data, label in test_loader:\n",
    "            data = data.to(device)\n",
    "            label = label.to(device)\n",
    "            output = model(data)\n",
    "            losses = loss(output, label)\n",
    "            total_test_loss += losses.item()\n",
    "    return total_test_loss/len(test_loader)"
   ]
  },
  {
   "cell_type": "code",
   "execution_count": 43,
   "metadata": {},
   "outputs": [],
   "source": [
    "train_loss, valid_loss = train(epochs, train_loader, valid_loader)"
   ]
  },
  {
   "cell_type": "code",
   "execution_count": 44,
   "metadata": {},
   "outputs": [
    {
     "data": {
      "image/png": "[encoded data removed]",
      "text/plain": [
       "<Figure size 640x480 with 1 Axes>"
      ]
     },
     "metadata": {},
     "output_type": "display_data"
    }
   ],
   "source": [
    "plt.plot(train_loss, color = 'r')\n",
    "plt.plot(valid_loss, color = 'b')\n",
    "\n",
    "plt.show()"
   ]
  },
  {
   "cell_type": "code",
   "execution_count": 45,
   "metadata": {},
   "outputs": [
    {
     "data": {
      "text/plain": [
       "0.3279987692981958"
      ]
     },
     "execution_count": 45,
     "metadata": {},
     "output_type": "execute_result"
    }
   ],
   "source": [
    "loss = test(test_loader)\n",
    "loss"
   ]
  }
 ],
 "metadata": {
  "kernelspec": {
   "display_name": "ai",
   "language": "python",
   "name": "python3"
  },
  "language_info": {
   "codemirror_mode": {
    "name": "ipython",
    "version": 3
   },
   "file_extension": ".py",
   "mimetype": "text/x-python",
   "name": "python",
   "nbconvert_exporter": "python",
   "pygments_lexer": "ipython3",
   "version": "3.11.11"
  }
 },
 "nbformat": 4,
 "nbformat_minor": 2
}
