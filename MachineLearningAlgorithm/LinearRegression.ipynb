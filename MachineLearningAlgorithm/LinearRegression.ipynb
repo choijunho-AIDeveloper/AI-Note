{
 "cells": [
  {
   "cell_type": "markdown",
   "metadata": {},
   "source": []
  },
  {
   "cell_type": "code",
   "execution_count": 35,
   "metadata": {},
   "outputs": [],
   "source": [
    "import torch\n",
    "import torch.nn as nn"
   ]
  },
  {
   "cell_type": "code",
   "execution_count": 36,
   "metadata": {},
   "outputs": [],
   "source": [
    "device = \"cuda\" if torch.cuda.is_available() else \"cpu\""
   ]
  },
  {
   "cell_type": "code",
   "execution_count": 46,
   "metadata": {},
   "outputs": [],
   "source": [
    "X = [1., 2., 3., 4., 5., 6., 7.]\n",
    "Y = [25000., 55000., 75000., 110000., 128000., 155000., 180000.]\n",
    "\n",
    "x = torch.tensor([[i] for i in X]) # To Batch Format\n",
    "y = torch.tensor([[i] for i in Y])"
   ]
  },
  {
   "cell_type": "code",
   "execution_count": 47,
   "metadata": {},
   "outputs": [],
   "source": [
    "class LinearRegression(nn.Module):\n",
    "    def __init__(self):\n",
    "        super(LinearRegression, self).__init__()\n",
    "        self.linear = nn.Linear(1, 1)\n",
    "    def forward(self, x):\n",
    "        x = self.linear(x)\n",
    "        return x"
   ]
  },
  {
   "cell_type": "code",
   "execution_count": 54,
   "metadata": {},
   "outputs": [],
   "source": [
    "model = LinearRegression().to(device)\n",
    "\n",
    "criterion = torch.nn.MSELoss()\n",
    "optimizer = torch.optim.SGD(model.parameters(), lr = 1e-3)"
   ]
  },
  {
   "cell_type": "code",
   "execution_count": null,
   "metadata": {},
   "outputs": [],
   "source": [
    "def train(epochs, x, y):\n",
    "    for epoch in range(epochs):\n",
    "        total_loss = 0\n",
    "        for data, label in zip(x, y):\n",
    "            data = data.to(device)\n",
    "            label = label.to(device)\n",
    "            output = model(data)\n",
    "            loss = criterion(output, label)\n",
    "            optimizer.zero_grad()\n",
    "            loss.backward()\n",
    "            optimizer.step()\n",
    "            total_loss += loss\n",
    "        if epoch % 100 == 0:\n",
    "            print(f\"epoch : {epoch} - loss : {(total_loss/len(y)) / 100.}\")"
   ]
  },
  {
   "cell_type": "code",
   "execution_count": 56,
   "metadata": {},
   "outputs": [
    {
     "name": "stdout",
     "output_type": "stream",
     "text": [
      "epoch : 0 - loss : 10814831616.0\n",
      "epoch : 100 - loss : 10489282.0\n",
      "epoch : 200 - loss : 9819269.0\n",
      "epoch : 300 - loss : 9429934.0\n",
      "epoch : 400 - loss : 9203624.0\n",
      "epoch : 500 - loss : 9071997.0\n",
      "epoch : 600 - loss : 8995425.0\n",
      "epoch : 700 - loss : 8950822.0\n",
      "epoch : 800 - loss : 8924799.0\n",
      "epoch : 900 - loss : 8909623.0\n"
     ]
    }
   ],
   "source": [
    "train(1000, x, y)"
   ]
  },
  {
   "cell_type": "code",
   "execution_count": null,
   "metadata": {},
   "outputs": [],
   "source": []
  },
  {
   "cell_type": "code",
   "execution_count": null,
   "metadata": {},
   "outputs": [],
   "source": []
  }
 ],
 "metadata": {
  "kernelspec": {
   "display_name": "ai",
   "language": "python",
   "name": "python3"
  },
  "language_info": {
   "codemirror_mode": {
    "name": "ipython",
    "version": 3
   },
   "file_extension": ".py",
   "mimetype": "text/x-python",
   "name": "python",
   "nbconvert_exporter": "python",
   "pygments_lexer": "ipython3",
   "version": "3.12.9"
  }
 },
 "nbformat": 4,
 "nbformat_minor": 2
}
